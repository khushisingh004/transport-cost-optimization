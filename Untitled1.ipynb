{
  "nbformat": 4,
  "nbformat_minor": 0,
  "metadata": {
    "colab": {
      "provenance": []
    },
    "kernelspec": {
      "name": "python3",
      "display_name": "Python 3"
    },
    "language_info": {
      "name": "python"
    }
  },
  "cells": [
    {
      "cell_type": "code",
      "execution_count": 1,
      "metadata": {
        "colab": {
          "base_uri": "https://localhost:8080/"
        },
        "id": "K8Qa21BFAj9w",
        "outputId": "53827fa3-a705-4da5-9ba8-68fff55eff51"
      },
      "outputs": [
        {
          "output_type": "stream",
          "name": "stdout",
          "text": [
            "Collecting pulp\n",
            "  Downloading pulp-3.2.2-py3-none-any.whl.metadata (6.9 kB)\n",
            "Downloading pulp-3.2.2-py3-none-any.whl (16.4 MB)\n",
            "\u001b[2K   \u001b[90m━━━━━━━━━━━━━━━━━━━━━━━━━━━━━━━━━━━━━━━━\u001b[0m \u001b[32m16.4/16.4 MB\u001b[0m \u001b[31m60.6 MB/s\u001b[0m eta \u001b[36m0:00:00\u001b[0m\n",
            "\u001b[?25hInstalling collected packages: pulp\n",
            "Successfully installed pulp-3.2.2\n"
          ]
        }
      ],
      "source": [
        "!pip install pulp\n"
      ]
    },
    {
      "cell_type": "code",
      "source": [
        "from pulp import *\n",
        "\n",
        "# Define the problem\n",
        "model = LpProblem(\"Transportation_Problem\", LpMinimize)\n",
        "\n",
        "# Decision variables\n",
        "x11 = LpVariable(\"W1_S1\", lowBound=0, cat=\"Integer\")\n",
        "x12 = LpVariable(\"W1_S2\", lowBound=0, cat=\"Integer\")\n",
        "x13 = LpVariable(\"W1_S3\", lowBound=0, cat=\"Integer\")\n",
        "\n",
        "x21 = LpVariable(\"W2_S1\", lowBound=0, cat=\"Integer\")\n",
        "x22 = LpVariable(\"W2_S2\", lowBound=0, cat=\"Integer\")\n",
        "x23 = LpVariable(\"W2_S3\", lowBound=0, cat=\"Integer\")\n",
        "\n",
        "# Objective function\n",
        "model += 2*x11 + 4*x12 + 5*x13 + 3*x21 + 1*x22 + 7*x23, \"Total_Transport_Cost\"\n",
        "\n",
        "# Supply constraints\n",
        "model += x11 + x12 + x13 <= 70, \"Supply_Warehouse1\"\n",
        "model += x21 + x22 + x23 <= 50, \"Supply_Warehouse2\"\n",
        "\n",
        "# Demand constraints\n",
        "model += x11 + x21 == 40, \"Demand_Store1\"\n",
        "model += x12 + x22 == 50, \"Demand_Store2\"\n",
        "model += x13 + x23 == 30, \"Demand_Store3\"\n",
        "\n",
        "# Solve the problem\n",
        "model.solve()\n",
        "\n",
        "# Output\n",
        "print(\"Status:\", LpStatus[model.status])\n",
        "print(\"Optimal Transport Plan:\")\n",
        "for v in model.variables():\n",
        "    print(f\"{v.name} = {v.varValue}\")\n",
        "print(\"Total Transportation Cost: ₹\", value(model.objective))\n"
      ],
      "metadata": {
        "colab": {
          "base_uri": "https://localhost:8080/"
        },
        "id": "U4mgDgBHA-Zb",
        "outputId": "c9620ab6-451f-4740-b053-674068330add"
      },
      "execution_count": 2,
      "outputs": [
        {
          "output_type": "stream",
          "name": "stdout",
          "text": [
            "Status: Optimal\n",
            "Optimal Transport Plan:\n",
            "W1_S1 = 40.0\n",
            "W1_S2 = 0.0\n",
            "W1_S3 = 30.0\n",
            "W2_S1 = 0.0\n",
            "W2_S2 = 50.0\n",
            "W2_S3 = 0.0\n",
            "Total Transportation Cost: ₹ 280.0\n"
          ]
        }
      ]
    },
    {
      "cell_type": "markdown",
      "source": [
        "## Transport Cost Optimization Using Linear Programming\n",
        "A company has 2 warehouses and 3 stores. Each has specific supply/demand, and transport cost varies. We want to minimize total transport cost while fulfilling all demands.\n",
        "| From \\ To | Store 1 | Store 2 | Store 3 | Supply |\n",
        "|-----------|---------|---------|---------|--------|\n",
        "| WH 1      | ₹2      | ₹4      | ₹5      | 70     |\n",
        "| WH 2      | ₹3      | ₹1      | ₹7      | 50     |\n",
        "| Demand    | 40      | 50      | 30      |        |\n",
        "\n",
        "The best shipping plan minimizes cost to ₹310 while satisfying all store demands.\n"
      ],
      "metadata": {
        "id": "74qUsXteBDXp"
      }
    }
  ]
}